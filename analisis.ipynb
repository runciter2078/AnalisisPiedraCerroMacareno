{
 "cells": [
  {
   "cell_type": "markdown",
   "id": "5b2783f4-3180-4a7e-9aab-c1883c0e6e69",
   "metadata": {},
   "source": [
    "# Análisis de la Tableta de Cerro Macareno\n",
    "\n",
    "Este cuaderno documenta el análisis exploratorio y avanzado de la Tableta de Cerro Macareno. Se transcriben los datos de la tablilla, se analizan distintas clasificaciones (inicialmente con múltiples estados) y se concluye que, en términos prácticos, el sistema es binario (vertical vs. horizontal) conservando además la categoría de casillas en blanco. Se evalúa la influencia de la orientación de lectura (horizontal vs. vertical) mediante análisis de correlación espacial, FFT, reducción de dimensionalidad (PCA y t-SNE) y clustering difuso (Fuzzy C-means).\n",
    "\n",
    "**Nota:** Para ejecutar este cuaderno, asegúrate de tener en la carpeta `data/` las imágenes `tablilla.jpg` y `tablilla_saez_2006.jpg`, así como el archivo Excel `tableta.xlsx`."
   ]
  },
  {
   "cell_type": "markdown",
   "id": "8dffef30-1b8a-42b1-8b43-92943b4d3f10",
   "metadata": {},
   "source": [
    "## 1. Imagen inicial de la tablilla\n",
    "\n",
    "![Tableta de Cerro Macareno](data/tablilla.jpg)"
   ]
  },
  {
   "cell_type": "markdown",
   "id": "f7af39b6-c663-44b0-899d-cd5b32b79a9b",
   "metadata": {},
   "source": [
    "## 1.2. Imagen de referencia adicional\n",
    "\n",
    "![Otra vista de la tableta](data/tablilla_saez_2006.jpg)\n",
    "\n",
    "Imagen extraída de:  \n",
    "**Sáez Uribarri, Í. (2006):** “La tableta de Cerro Macareno: Análisis exploratorio de datos en torno a una pieza de arqueología”, *Spal* 15: 259-266.  \n",
    "[DOI: https://dx.doi.org/10.12795/spal.2006.i15.13](https://dx.doi.org/10.12795/spal.2006.i15.13)"
   ]
  },
  {
   "cell_type": "markdown",
   "id": "3d50cfcd-62f3-40b5-98ab-cb7069ad0cf3",
   "metadata": {},
   "source": [
    "## 2. Creación del DataFrame transcrito\n",
    "\n",
    "Cargamos el archivo Excel `tableta.xlsx` con la transcripción de la tablilla (8 filas x 14 columnas)."
   ]
  },
  {
   "cell_type": "code",
   "execution_count": null,
   "id": "80c8390b-0176-4bb8-87d8-3b6d5c4ac47b",
   "metadata": {},
   "outputs": [],
   "source": [
    "# Importar librerías\n",
    "import pandas as pd\n",
    "import numpy as np\n",
    "import matplotlib.pyplot as plt\n",
    "import seaborn as sns\n",
    "\n",
    "%matplotlib inline\n",
    "sns.set(style='whitegrid', font_scale=1.1)\n",
    "\n",
    "# Cargar el archivo Excel\n",
    "df = pd.read_excel(\"data/tableta.xlsx\", header=0)\n",
    "print(\"DataFrame original (orientación horizontal):\")\n",
    "display(df)"
   ]
  },
  {
   "cell_type": "markdown",
   "id": "6e3562ac-cc95-428f-9317-6d94bfa6674c",
   "metadata": {},
   "source": [
    "## 3. Transformación a modelo binario\n",
    "\n",
    "Inicialmente se consideraron varias categorías (vertical, horizontal, inclinadas, etc.). Sin embargo, los análisis preliminares mostraron que el sistema se comporta de forma binaria, pero es fundamental conservar las casillas en blanco (valor 5). Por ello, se transforma la matriz de la siguiente manera:\n",
    "- Si el valor es exactamente 5, se mantiene como 5 (blanco).\n",
    "- Si el valor es menor a 2.5 y distinto de 5, se asigna 1 (vertical).\n",
    "- Si el valor es mayor o igual a 2.5 y distinto de 5, se asigna 3 (horizontal)."
   ]
  },
  {
   "cell_type": "code",
   "execution_count": null,
   "id": "a05afdb4-d48c-4c1c-93ef-f3f4a3a403ce",
   "metadata": {},
   "outputs": [],
   "source": [
    "def transformar_a_binario(grid, umbral=2.5):\n",
    "    \"\"\"\n",
    "    Convierte la matriz original a un modelo binario conservando las casillas en blanco (valor 5):\n",
    "      - Si el valor == 5, se mantiene 5 (blanco).\n",
    "      - Si el valor < umbral y distinto de 5, se asigna 1 (vertical).\n",
    "      - Si el valor >= umbral y distinto de 5, se asigna 3 (horizontal).\n",
    "    \"\"\"\n",
    "    grid_binario = np.where(grid == 5, 5, np.where(grid < umbral, 1, 3))\n",
    "    return grid_binario\n",
    "\n",
    "# Convertir a matriz NumPy\n",
    "grid_original = df.values.astype(float)\n",
    "grid_binario = transformar_a_binario(grid_original, umbral=2.5)\n",
    "\n",
    "print(\"Matriz binaria (1 = vertical, 3 = horizontal, 5 = vacío):\")\n",
    "print(grid_binario)"
   ]
  },
  {
   "cell_type": "markdown",
   "id": "b8f2b832-1ed5-4a0b-b1f4-5ef3c8a7af22",
   "metadata": {},
   "source": [
    "## 4. Análisis en orientación Horizontal\n",
    "\n",
    "Realizamos varios análisis: suma por filas y columnas, análisis de autocorrelación espacial (promedio de vecinos y FFT), reducción de dimensionalidad (PCA y t-SNE) y clustering difuso (Fuzzy C-means)."
   ]
  },
  {
   "cell_type": "code",
   "execution_count": null,
   "id": "40c74831-9988-4cb8-b7f0-c418a96a1857",
   "metadata": {},
   "outputs": [],
   "source": [
    "def calcular_promedio_vecinos(grid):\n",
    "    \"\"\"Calcula el promedio de los 8 vecinos (vecindad de Moore) para cada celda.\"\"\"\n",
    "    n_rows, n_cols = grid.shape\n",
    "    neighbor_avg = np.empty((n_rows, n_cols))\n",
    "    for i in range(n_rows):\n",
    "        for j in range(n_cols):\n",
    "            vecinos = []\n",
    "            for di in [-1, 0, 1]:\n",
    "                for dj in [-1, 0, 1]:\n",
    "                    if di == 0 and dj == 0:\n",
    "                        continue\n",
    "                    ni, nj = i + di, j + dj\n",
    "                    if 0 <= ni < n_rows and 0 <= nj < n_cols:\n",
    "                        vecinos.append(grid[ni, nj])\n",
    "            neighbor_avg[i, j] = np.mean(vecinos) if vecinos else np.nan\n",
    "    return neighbor_avg\n",
    "\n",
    "# Sumas por filas y columnas\n",
    "sum_filas = np.sum(grid_binario, axis=1)\n",
    "sum_columnas = np.sum(grid_binario, axis=0)\n",
    "\n",
    "print(\"Suma de filas:\", sum_filas)\n",
    "print(\"Suma de columnas:\", sum_columnas)"
   ]
  },
  {
   "cell_type": "code",
   "execution_count": null,
   "id": "0830d335-f5d8-4433-93af-c5b7e1c32d79",
   "metadata": {},
   "outputs": [],
   "source": [
    "from scipy.fft import fft, fftfreq\n",
    "\n",
    "def analizar_periodicidad(vector, label=\"\"):\n",
    "    n = len(vector)\n",
    "    yf = fft(vector)\n",
    "    xf = fftfreq(n, d=1)\n",
    "    magnitudes = np.abs(yf)\n",
    "    \n",
    "    plt.figure(figsize=(8,4))\n",
    "    plt.stem(xf[:n//2], magnitudes[:n//2], basefmt=\" \")\n",
    "    plt.xlabel(\"Frecuencia\")\n",
    "    plt.ylabel(\"Magnitud\")\n",
    "    plt.title(f\"Espectro FFT de {label} (n={n})\")\n",
    "    plt.show()\n",
    "    return xf, magnitudes\n",
    "\n",
    "print(\"\\n--- Análisis FFT para filas (Horizontal) ---\")\n",
    "analizar_periodicidad(sum_filas, label=\"filas (Horizontal)\")\n",
    "\n",
    "print(\"\\n--- Análisis FFT para columnas (Horizontal) ---\")\n",
    "analizar_periodicidad(sum_columnas, label=\"columnas (Horizontal)\")"
   ]
  },
  {
   "cell_type": "code",
   "execution_count": null,
   "id": "8b6ac724-4e5e-4e41-8e9d-330dfdbe0c6b",
   "metadata": {},
   "outputs": [],
   "source": [
    "from sklearn.decomposition import PCA\n",
    "from sklearn.manifold import TSNE\n",
    "\n",
    "def aplicar_PCA(grid):\n",
    "    pca = PCA(n_components=2)\n",
    "    pca_result = pca.fit_transform(grid)\n",
    "    print(\"Componentes principales (PCA):\")\n",
    "    print(pca_result)\n",
    "    plt.figure(figsize=(6,5))\n",
    "    plt.scatter(pca_result[:,0], pca_result[:,1], c='blue')\n",
    "    plt.title(\"PCA de la tabla (Horizontal)\")\n",
    "    plt.xlabel(\"PC1\")\n",
    "    plt.ylabel(\"PC2\")\n",
    "    plt.show()\n",
    "    return pca_result\n",
    "\n",
    "def aplicar_tSNE(grid, orientacion=\"Horizontal\", perplexity=3):\n",
    "    tsne = TSNE(n_components=2, random_state=42, perplexity=perplexity)\n",
    "    tsne_result = tsne.fit_transform(grid)\n",
    "    plt.figure(figsize=(6,5))\n",
    "    plt.scatter(tsne_result[:,0], tsne_result[:,1], c='green')\n",
    "    plt.title(f\"t-SNE de la tabla ({orientacion})\")\n",
    "    plt.xlabel(\"Dim 1\")\n",
    "    plt.ylabel(\"Dim 2\")\n",
    "    plt.show()\n",
    "    return tsne_result\n",
    "\n",
    "print(\"\\n--- PCA (Horizontal) ---\")\n",
    "aplicar_PCA(grid_binario)\n",
    "\n",
    "print(\"\\n--- t-SNE (Horizontal) ---\")\n",
    "aplicar_tSNE(grid_binario, orientacion=\"Horizontal\", perplexity=3)"
   ]
  },
  {
   "cell_type": "code",
   "execution_count": null,
   "id": "1520d75a-d1f8-4d7a-a9a5-9e6533faba4b",
   "metadata": {},
   "outputs": [],
   "source": [
    "from sklearn.preprocessing import StandardScaler\n",
    "import skfuzzy as fuzz\n",
    "\n",
    "def fuzzy_cmeans_clustering(grid, k=2, m=2, error=0.005, maxiter=1000):\n",
    "    n_rows, n_cols = grid.shape\n",
    "    datos = []\n",
    "    for i in range(n_rows):\n",
    "        for j in range(n_cols):\n",
    "            datos.append([i, j, grid[i, j]])\n",
    "    datos = np.array(datos)\n",
    "    \n",
    "    scaler = StandardScaler()\n",
    "    datos_scaled = scaler.fit_transform(datos)\n",
    "    \n",
    "    cntr, u, u0, d, jm, p, fpc = fuzz.cluster.cmeans(\n",
    "        datos_scaled.T, c=k, m=m, error=error, maxiter=maxiter, init=None)\n",
    "    \n",
    "    cluster_labels = np.argmax(u, axis=0)\n",
    "    cluster_grid = cluster_labels.reshape(n_rows, n_cols)\n",
    "    \n",
    "    print(f\"Para k = {k}: Fuzzy Partition Coefficient (FPC) = {fpc:.4f}\")\n",
    "    return cntr, u, cluster_grid, fpc, datos\n",
    "\n",
    "def plot_fuzzy_clusters(cluster_grid, k):\n",
    "    plt.figure(figsize=(8, 6))\n",
    "    sns.heatmap(cluster_grid, annot=True, fmt=\"d\", cmap=\"viridis\", cbar=True)\n",
    "    plt.title(f\"Clusters (Fuzzy C-means) para k = {k} (Horizontal)\")\n",
    "    plt.xlabel(\"Columna\")\n",
    "    plt.ylabel(\"Fila\")\n",
    "    plt.show()\n",
    "\n",
    "print(\"\\n--- Clustering difuso (Horizontal) ---\")\n",
    "cntr, u, cluster_grid, fpc, datos = fuzzy_cmeans_clustering(grid_binario, k=2)\n",
    "plot_fuzzy_clusters(cluster_grid, k=2)"
   ]
  },
  {
   "cell_type": "markdown",
   "id": "83d1a60f-0bfe-447b-93d0-31e6d2f0f7dc",
   "metadata": {},
   "source": [
    "## 5. Análisis en orientación Vertical\n",
    "\n",
    "Para evaluar si la orientación de lectura influye en la interpretación, se transpone la matriz binaria y se repite el análisis."
   ]
  },
  {
   "cell_type": "code",
   "execution_count": null,
   "id": "34a3c8b5-7b36-4cf3-a58d-d6f7a896c978",
   "metadata": {},
   "outputs": [],
   "source": [
    "# Transponer la matriz para orientación Vertical\n",
    "grid_vertical = grid_binario.T\n",
    "\n",
    "# Sumas por filas y columnas en orientación Vertical\n",
    "sum_filas_vert = np.sum(grid_vertical, axis=1)\n",
    "sum_columnas_vert = np.sum(grid_vertical, axis=0)\n",
    "\n",
    "print(\"[Orientación Vertical]\")\n",
    "print(\"Suma de filas (Vertical):\", sum_filas_vert)\n",
    "print(\"Suma de columnas (Vertical):\", sum_columnas_vert)\n",
    "\n",
    "# Análisis FFT en orientación Vertical\n",
    "print(\"\\n--- Análisis FFT para filas (Vertical) ---\")\n",
    "analizar_periodicidad(sum_filas_vert, label=\"filas (Vertical)\")\n",
    "\n",
    "print(\"\\n--- Análisis FFT para columnas (Vertical) ---\")\n",
    "analizar_periodicidad(sum_columnas_vert, label=\"columnas (Vertical)\")\n",
    "\n",
    "# PCA y t-SNE en orientación Vertical\n",
    "print(\"\\n--- PCA (Vertical) ---\")\n",
    "aplicar_PCA(grid_vertical)\n",
    "\n",
    "print(\"\\n--- t-SNE (Vertical) ---\")\n",
    "aplicar_tSNE(grid_vertical, orientacion=\"Vertical\", perplexity=3)\n",
    "\n",
    "# Clustering difuso en orientación Vertical\n",
    "print(\"\\n--- Clustering difuso (Vertical) ---\")\n",
    "cntr_v, u_v, cluster_grid_v, fpc_v, datos_v = fuzzy_cmeans_clustering(grid_vertical, k=2)\n",
    "plot_fuzzy_clusters(cluster_grid_v, k=2)"
   ]
  },
  {
   "cell_type": "markdown",
   "id": "45f4f327-6d92-40da-9af8-91ac2d6bd299",
   "metadata": {},
   "source": [
    "## 6. Conclusiones\n",
    "\n",
    "- **Estructura binaria:** La transformación a un modelo que conserva tres estados (1 = vertical, 3 = horizontal, 5 = vacío) simplifica la interpretación, revelando bloques diferenciados en la tablilla.\n",
    "- **Autocorrelación espacial:** Las sumas por filas y columnas, junto con el análisis FFT, indican que la distribución de las marcas no es aleatoria y presenta patrones espaciales.\n",
    "- **Reducción de dimensionalidad:** Tanto PCA como t-SNE muestran agrupaciones latentes que confirman la robustez de la estructura, independientemente de la orientación.\n",
    "- **Clustering difuso:** El clustering con k=2 produce una partición robusta (FPC ≈ 0.70), apoyando la hipótesis de que la Tableta se divide en dos secciones (por ejemplo, presencia vs. ausencia de un fenómeno).\n",
    "\n",
    "**Interpretación arqueoastronómica (Hipotética):** Aunque no se detectan periodicidades astronómicas evidentes, la existencia de bloques diferenciados abre la posibilidad de que la Tableta registre información espacial o temporal, lo que podría relacionarse con patrones astronómicos. Se recomienda comparar estos resultados con datos astronómicos para avanzar en esta hipótesis."
   ]
  }
 ],
 "metadata": {
  "kernelspec": {
   "display_name": "Python 3",
   "language": "python",
   "name": "python3"
  },
  "language_info": {
   "file_extension": ".py",
   "mimetype": "text/x-python",
   "name": "python",
   "version": "3.x"
  }
 },
 "nbformat": 4,
 "nbformat_minor": 5
}
