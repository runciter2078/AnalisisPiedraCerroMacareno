# Análisis de la Piedra de Cerro Macareno

**Autores:** Pablo Beret Grande

**Descripción:**  
Este cuaderno documenta el análisis exploratorio y avanzado de la Piedra de Cerro Macareno. Se transcriben los datos de la tablilla, se analizan distintas clasificaciones (inicialmente con múltiples estados: vertical, horizontal, inclinado a la derecha, inclinado a la izquierda, etc.) y se concluye que, en términos prácticos, el sistema es binario (vertical vs. horizontal). Se evalúa la posible influencia de la orientación de lectura (horizontal vs. vertical) mediante análisis de correlación espacial, FFT, reducción de dimensionalidad (PCA y t-SNE) y clustering difuso.

---

## 1. Imagen inicial de la tablilla

A continuación se muestra una imagen representativa de la Piedra de Cerro Macareno.

![Piedra de Cerro Macareno](data/tablilla.jpg)

*Nota: Asegúrate de colocar la imagen en la carpeta `data/` con el nombre `tablilla.jpg`.*

---

## 2. Creación del DataFrame transcrito

La siguiente celda carga el archivo Excel con la transcripción de la tablilla.  
Se asume que el archivo se llama `tableta.xlsx` y tiene 8 filas y 14 columnas, con los siguientes valores (originalmente se clasificaron en varios estados, pero aquí usaremos la versión numérica para facilitar el análisis).

```python
# Importar librerías necesarias
import pandas as pd
import numpy as np
import matplotlib.pyplot as plt
import seaborn as sns

# Configuración de estilo para gráficos
sns.set(style="whitegrid", font_scale=1.1)
%matplotlib inline

# Cargar el archivo Excel con la transcripción de la tablilla
# Asegúrate de que el archivo 'tableta.xlsx' se encuentre en la carpeta de trabajo
df = pd.read_excel("data/tableta.xlsx", header=0)
print("DataFrame original (orientación horizontal):")
display(df)
```

---

## 3. Transformación a modelo binario

Inicialmente se consideraron varias categorías:  
- 1: Raya vertical  
- 1.5: Raya ligeramente inclinada hacia la derecha  
- 2: Raya inclinada aprox. 45º hacia la derecha  
- 3: Raya horizontal  
- 3.5: Raya ligeramente inclinada hacia la izquierda  
- 4: Raya inclinada aprox. 45º hacia la izquierda  
- 5: Vacío  

Los primeros análisis indicaron que, para los fines del análisis, es conveniente agrupar estas categorías en dos estados:  
- **Vertical:** asignaremos el valor 1 (cuando el valor original es menor a un umbral, por ejemplo, 2.5)  
- **Horizontal:** asignaremos el valor 3 (cuando el valor original es mayor o igual a 2.5)

```python
def transformar_a_binario(grid, umbral=2.5):
    """
    Convierte la matriz original a un modelo binario:
      - Si el valor < umbral se asigna 1 (vertical)
      - Si el valor >= umbral se asigna 3 (horizontal)
    """
    grid_binario = np.where(grid < umbral, 1, 3)
    return grid_binario

# Convertir el DataFrame a una matriz NumPy de valores flotantes
grid_original = df.values.astype(float)
grid_binario = transformar_a_binario(grid_original, umbral=2.5)

print("Matriz binaria (1 = vertical, 3 = horizontal):")
print(grid_binario)
```

---

## 4. Análisis en orientación Horizontal

Se realizan varios análisis:  
- **Suma por filas y columnas:** para ver la distribución de los estados.  
- **Análisis de autocorrelación espacial:** se calcula el promedio de los vecinos (vecindad de Moore) y se evalúa la correlación de Pearson.  
- **Transformada de Fourier (FFT):** para detectar posibles periodicidades.  
- **Reducción de dimensionalidad (PCA y t-SNE):** para explorar patrones latentes.  
- **Clustering difuso (Fuzzy C-means):** para identificar bloques homogéneos.

### 4.1 Cálculo de sumas y autocorrelación

```python
def calcular_promedio_vecinos(grid):
    """
    Calcula el promedio de los 8 vecinos (vecindad de Moore) para cada celda.
    """
    n_rows, n_cols = grid.shape
    neighbor_avg = np.empty((n_rows, n_cols))
    for i in range(n_rows):
        for j in range(n_cols):
            vecinos = []
            for di in [-1, 0, 1]:
                for dj in [-1, 0, 1]:
                    if di == 0 and dj == 0:
                        continue
                    ni, nj = i + di, j + dj
                    if 0 <= ni < n_rows and 0 <= nj < n_cols:
                        vecinos.append(grid[ni, nj])
            neighbor_avg[i, j] = np.mean(vecinos) if vecinos else np.nan
    return neighbor_avg

# Sumas por filas y columnas
sum_filas = np.sum(grid_binario, axis=1)
sum_columnas = np.sum(grid_binario, axis=0)

print("Suma de filas:", sum_filas)
print("Suma de columnas:", sum_columnas)
```

### 4.2 Análisis FFT

```python
from scipy.fft import fft, fftfreq

def analizar_periodicidad(vector, label=""):
    n = len(vector)
    yf = fft(vector)
    xf = fftfreq(n, d=1)
    magnitudes = np.abs(yf)
    
    plt.figure(figsize=(8,4))
    plt.stem(xf[:n//2], magnitudes[:n//2], basefmt=" ")
    plt.xlabel("Frecuencia")
    plt.ylabel("Magnitud")
    plt.title(f"Espectro FFT de {label} (n={n})")
    plt.show()
    return xf, magnitudes

print("\n--- Análisis FFT para filas ---")
analizar_periodicidad(sum_filas, label="filas (Horizontal)")

print("\n--- Análisis FFT para columnas ---")
analizar_periodicidad(sum_columnas, label="columnas (Horizontal)")
```

### 4.3 Reducción de dimensionalidad: PCA y t-SNE

```python
from sklearn.decomposition import PCA
from sklearn.manifold import TSNE

def aplicar_PCA(grid):
    pca = PCA(n_components=2)
    pca_result = pca.fit_transform(grid)
    print("Componentes principales (PCA):")
    print(pca_result)
    plt.figure(figsize=(6,5))
    plt.scatter(pca_result[:,0], pca_result[:,1], c='blue')
    plt.title("PCA de la tabla (Horizontal)")
    plt.xlabel("PC1")
    plt.ylabel("PC2")
    plt.show()
    return pca_result

def aplicar_tSNE(grid, orientacion="Horizontal", perplexity=3):
    # Ajustamos el parámetro perplexity para el tamaño reducido de la muestra.
    tsne = TSNE(n_components=2, random_state=42, perplexity=perplexity)
    tsne_result = tsne.fit_transform(grid)
    plt.figure(figsize=(6,5))
    plt.scatter(tsne_result[:,0], tsne_result[:,1], c='green')
    plt.title(f"t-SNE de la tabla ({orientacion})")
    plt.xlabel("Dim 1")
    plt.ylabel("Dim 2")
    plt.show()
    return tsne_result

print("\n--- PCA (Horizontal) ---")
aplicar_PCA(grid_binario)

print("\n--- t-SNE (Horizontal) ---")
aplicar_tSNE(grid_binario, orientacion="Horizontal", perplexity=3)
```

### 4.4 Clustering difuso (Fuzzy C-means)

```python
from sklearn.preprocessing import StandardScaler
import skfuzzy as fuzz

def fuzzy_cmeans_clustering(grid, k=2, m=2, error=0.005, maxiter=1000):
    n_rows, n_cols = grid.shape
    datos = []
    for i in range(n_rows):
        for j in range(n_cols):
            datos.append([i, j, grid[i, j]])
    datos = np.array(datos)
    
    scaler = StandardScaler()
    datos_scaled = scaler.fit_transform(datos)
    
    cntr, u, u0, d, jm, p, fpc = fuzz.cluster.cmeans(
        datos_scaled.T, c=k, m=m, error=error, maxiter=maxiter, init=None)
    
    cluster_labels = np.argmax(u, axis=0)
    cluster_grid = cluster_labels.reshape(n_rows, n_cols)
    
    print(f"Para k = {k}: Fuzzy Partition Coefficient (FPC) = {fpc:.4f}")
    return cntr, u, cluster_grid, fpc, datos

def plot_fuzzy_clusters(cluster_grid, k):
    plt.figure(figsize=(8, 6))
    sns.heatmap(cluster_grid, annot=True, fmt="d", cmap="viridis", cbar=True)
    plt.title(f"Clusters (Fuzzy C-means) para k = {k} (Horizontal)")
    plt.xlabel("Columna")
    plt.ylabel("Fila")
    plt.show()

print("\n--- Clustering difuso (Horizontal) ---")
cntr, u, cluster_grid, fpc, datos = fuzzy_cmeans_clustering(grid_binario, k=2)
plot_fuzzy_clusters(cluster_grid, k=2)
```

---

## 5. Análisis en orientación Vertical

Para evaluar si la orientación de lectura influye en la interpretación, se transpone la matriz binaria y se repite el análisis.

```python
# Transponer la matriz para obtener la orientación Vertical
grid_vertical = grid_binario.T

# Sumas por filas y columnas en la orientación Vertical
sum_filas_vert = np.sum(grid_vertical, axis=1)
sum_columnas_vert = np.sum(grid_vertical, axis=0)

print("\n[Orientación Vertical]")
print("Suma de filas (Vertical):", sum_filas_vert)
print("Suma de columnas (Vertical):", sum_columnas_vert)

# FFT en orientación Vertical
print("\n--- Análisis FFT para filas (Vertical) ---")
analizar_periodicidad(sum_filas_vert, label="filas (Vertical)")

print("\n--- Análisis FFT para columnas (Vertical) ---")
analizar_periodicidad(sum_columnas_vert, label="columnas (Vertical)")

# PCA y t-SNE en orientación Vertical
print("\n--- PCA (Vertical) ---")
aplicar_PCA(grid_vertical)

print("\n--- t-SNE (Vertical) ---")
aplicar_tSNE(grid_vertical, orientacion="Vertical", perplexity=3)

# Clustering difuso en orientación Vertical
print("\n--- Clustering difuso (Vertical) ---")
cntr_v, u_v, cluster_grid_v, fpc_v, datos_v = fuzzy_cmeans_clustering(grid_vertical, k=2)
plot_fuzzy_clusters(cluster_grid_v, k=2)
```

---

## 6. Conclusiones

Tras los análisis realizados en ambas orientaciones, se extraen las siguientes conclusiones:

- **Estructura binaria:**  
  La transformación a un modelo binario (1 = vertical, 3 = horizontal) simplifica la interpretación. Las sumas por filas y columnas muestran variaciones que sugieren la existencia de bloques diferenciados.

- **Autocorrelación espacial:**  
  La correlación entre el valor de cada celda y el promedio de sus vecinos, junto con el análisis FFT, indica que la distribución de las marcas no es aleatoria, sino que presenta patrones espaciales.

- **Reducción de dimensionalidad:**  
  Tanto el PCA como el t-SNE han revelado componentes y agrupaciones que indican diferencias latentes en la distribución de los estados, evidenciando la robustez de la estructura.

- **Clustering difuso:**  
  El clustering difuso (Fuzzy C-means) con k=2 produce una partición robusta (FPC ≈ 0.70), lo que respalda la hipótesis de que la piedra se divide en dos secciones diferenciadas. Esto podría interpretarse, por ejemplo, como la presencia frente a la ausencia de un fenómeno registrado.

- **Orientación de lectura:**  
  Los análisis realizados en orientación horizontal y vertical son coherentes, lo que sugiere que la estructura subyacente de la piedra es robusta e independiente de la dirección de lectura.

**Interpretación arqueoastronómica (Hipotética):**  
Aunque no se detectan periodicidades astronómicas muy marcadas en el análisis FFT, la existencia de bloques diferenciados abre la posibilidad de que la piedra registre información espacial o temporal de origen astronómico (por ejemplo, indicadores de ciclos o alineaciones). Una comparación con datos astronómicos conocidos podría ser el siguiente paso para confirmar o refutar esta hipótesis.

---

## 7. Referencias y próximos pasos

- Documentar en detalle la metodología empleada, incluyendo las ecuaciones teóricas de la FFT, el clustering difuso y la reducción de dimensionalidad.
- Comparar los resultados con estudios previos de artefactos arqueológicos similares.
- Investigar correlaciones con patrones astronómicos conocidos.

---
